{
 "cells": [
  {
   "cell_type": "code",
   "execution_count": 2,
   "metadata": {
    "collapsed": false,
    "deletable": true,
    "editable": true
   },
   "outputs": [
    {
     "name": "stderr",
     "output_type": "stream",
     "text": [
      "C:\\Users\\Rishabh\\AppData\\Local\\Enthought\\Canopy\\edm\\envs\\User\\lib\\site-packages\\sklearn\\cross_validation.py:41: DeprecationWarning: This module was deprecated in version 0.18 in favor of the model_selection module into which all the refactored classes and functions are moved. Also note that the interface of the new CV iterators are different from that of this module. This module will be removed in 0.20.\n",
      "  \"This module will be removed in 0.20.\", DeprecationWarning)\n"
     ]
    }
   ],
   "source": [
    "import pandas as pd\n",
    "import quandl\n",
    "import math\n",
    "import numpy as np\n",
    "from sklearn import preprocessing,cross_validation,svm\n",
    "from sklearn.linear_model import LinearRegression"
   ]
  },
  {
   "cell_type": "code",
   "execution_count": 3,
   "metadata": {
    "collapsed": false,
    "deletable": true,
    "editable": true
   },
   "outputs": [
    {
     "name": "stdout",
     "output_type": "stream",
     "text": [
      "               Open     High      Low     Last    Close  Total Trade Quantity  \\\n",
      "Date                                                                            \n",
      "2011-06-29  2868.00  2907.00  2868.00  2880.00  2881.75              600094.0   \n",
      "2011-06-30  2886.05  2919.00  2881.50  2903.10  2910.45             1417730.0   \n",
      "2011-07-01  2935.00  2969.95  2924.10  2928.00  2934.15              800308.0   \n",
      "2011-07-04  2966.65  2977.00  2935.00  2941.00  2938.95              514324.0   \n",
      "2011-07-05  2957.00  2969.90  2926.00  2959.00  2956.45              802966.0   \n",
      "2011-07-06  2947.00  2972.45  2937.10  2954.50  2953.70              430028.0   \n",
      "2011-07-07  2955.20  3000.00  2943.00  2998.00  2995.70              718934.0   \n",
      "2011-07-08  3000.00  3023.90  2967.25  2967.25  2976.55              708724.0   \n",
      "2011-07-11  2953.90  2976.10  2888.55  2926.35  2921.15             1150815.0   \n",
      "2011-07-12  2850.00  2850.00  2746.80  2786.10  2791.55             3706582.0   \n",
      "2011-07-13  2766.00  2807.35  2761.05  2778.00  2777.30             1667271.0   \n",
      "2011-07-14  2760.25  2764.00  2731.00  2739.95  2740.35             1361403.0   \n",
      "2011-07-15  2744.00  2762.95  2720.00  2731.50  2731.35              799078.0   \n",
      "2011-07-18  2735.00  2743.25  2707.35  2712.50  2713.40             1176082.0   \n",
      "2011-07-19  2721.00  2762.00  2716.65  2747.20  2750.50             1040553.0   \n",
      "2011-07-20  2772.80  2772.80  2745.00  2755.05  2752.45              777839.0   \n",
      "2011-07-21  2745.20  2784.50  2736.80  2766.50  2768.10              737136.0   \n",
      "2011-07-22  2784.30  2844.00  2770.00  2820.00  2828.25              968703.0   \n",
      "2011-07-25  2818.00  2825.05  2791.10  2806.00  2807.75              925532.0   \n",
      "2011-07-26  2809.00  2824.00  2787.50  2801.00  2801.80              856092.0   \n",
      "2011-07-27  2801.00  2835.90  2791.20  2795.00  2796.65             1063305.0   \n",
      "2011-07-28  2765.00  2773.90  2734.50  2743.00  2751.10             1185172.0   \n",
      "2011-07-29  2741.00  2782.45  2725.40  2766.00  2775.90             1219699.0   \n",
      "2011-08-01  2780.10  2823.80  2780.10  2815.25  2815.10              761869.0   \n",
      "2011-08-02  2798.55  2798.55  2745.00  2752.00  2750.95              616566.0   \n",
      "2011-08-03  2735.00  2739.70  2708.50  2730.00  2732.60              705761.0   \n",
      "2011-08-04  2740.00  2759.95  2704.00  2714.80  2709.15              816236.0   \n",
      "2011-08-05  2643.60  2643.60  2525.00  2601.00  2591.20             1969759.0   \n",
      "2011-08-08  2500.00  2500.00  2431.00  2487.00  2470.50             2021280.0   \n",
      "2011-08-09  2351.00  2439.95  2350.20  2379.00  2374.55             2106218.0   \n",
      "...             ...      ...      ...      ...      ...                   ...   \n",
      "2018-05-21  1179.55  1188.40  1170.00  1183.20  1179.50             4237660.0   \n",
      "2018-05-22  1175.00  1198.00  1173.90  1195.00  1193.85             2818402.0   \n",
      "2018-05-23  1195.00  1207.65  1181.50  1182.95  1184.90             4769221.0   \n",
      "2018-05-24  1198.00  1227.55  1198.00  1220.00  1221.00             4870285.0   \n",
      "2018-05-25  1230.10  1248.65  1220.80  1229.55  1228.30             4450719.0   \n",
      "2018-05-28  1231.00  1232.60  1206.00  1212.10  1214.40             2869897.0   \n",
      "2018-05-29  1214.05  1226.55  1206.20  1219.90  1216.70             1694467.0   \n",
      "2018-05-30  1217.00  1228.75  1205.60  1210.40  1211.70             3161533.0   \n",
      "2018-05-31  1211.70  1242.00  1210.25  1238.00  1231.80             9860170.0   \n",
      "2018-06-01  1230.40  1246.25  1217.20  1222.20  1220.80             2499178.0   \n",
      "2018-06-04  1221.10  1243.00  1212.00  1241.00  1239.40             2135078.0   \n",
      "2018-06-05  1242.00  1242.00  1217.00  1218.85  1220.85             2355431.0   \n",
      "2018-06-06  1225.20  1241.55  1220.05  1238.10  1237.45             2019092.0   \n",
      "2018-06-07  1238.00  1258.00  1238.00  1249.30  1252.45             3338113.0   \n",
      "2018-06-08  1248.00  1262.00  1246.05  1258.80  1260.05             3229939.0   \n",
      "2018-06-11  1265.55  1270.00  1255.05  1261.00  1262.40             2585645.0   \n",
      "2018-06-12  1265.75  1271.25  1250.45  1259.00  1258.50             3919910.0   \n",
      "2018-06-13  1266.80  1284.00  1266.80  1275.00  1274.80             2883464.0   \n",
      "2018-06-14  1253.00  1253.00  1234.10  1240.00  1239.70             3799424.0   \n",
      "2018-06-15  1237.00  1291.50  1235.00  1288.80  1281.25             9978880.0   \n",
      "2018-06-18  1284.00  1291.25  1262.35  1264.50  1267.40             4107423.0   \n",
      "2018-06-19  1263.00  1263.40  1238.05  1242.00  1241.60             3772850.0   \n",
      "2018-06-20  1248.50  1252.35  1238.00  1241.45  1243.15             2685901.0   \n",
      "2018-06-21  1245.95  1256.50  1236.00  1246.55  1246.55             2899395.0   \n",
      "2018-06-22  1243.00  1255.50  1241.20  1246.40  1247.85             2171559.0   \n",
      "2018-06-25  1257.15  1278.80  1254.00  1269.70  1272.45             3865589.0   \n",
      "2018-06-26  1269.00  1283.90  1266.25  1280.05  1277.85             2241752.0   \n",
      "2018-06-27  1283.95  1293.45  1265.60  1271.50  1270.00             3476071.0   \n",
      "2018-06-28  1276.30  1298.00  1276.25  1284.30  1289.60             5498409.0   \n",
      "2018-06-29  1298.05  1315.00  1283.25  1310.65  1307.20             4983300.0   \n",
      "\n",
      "            Turnover (Lacs)  \n",
      "Date                         \n",
      "2011-06-29         17320.05  \n",
      "2011-06-30         41163.32  \n",
      "2011-07-01         23549.85  \n",
      "2011-07-04         15162.29  \n",
      "2011-07-05         23701.22  \n",
      "2011-07-06         12701.30  \n",
      "2011-07-07         21388.82  \n",
      "2011-07-08         21245.90  \n",
      "2011-07-11         33571.22  \n",
      "2011-07-12        102882.43  \n",
      "2011-07-13         46335.42  \n",
      "2011-07-14         37333.24  \n",
      "2011-07-15         21847.06  \n",
      "2011-07-18         31968.69  \n",
      "2011-07-19         28526.28  \n",
      "2011-07-20         21418.78  \n",
      "2011-07-21         20387.82  \n",
      "2011-07-22         27324.24  \n",
      "2011-07-25         25971.71  \n",
      "2011-07-26         23997.53  \n",
      "2011-07-27         29836.30  \n",
      "2011-07-28         32573.77  \n",
      "2011-07-29         33734.33  \n",
      "2011-08-01         21421.66  \n",
      "2011-08-02         17033.36  \n",
      "2011-08-03         19233.05  \n",
      "2011-08-04         22346.00  \n",
      "2011-08-05         50941.13  \n",
      "2011-08-08         49882.39  \n",
      "2011-08-09         50278.36  \n",
      "...                     ...  \n",
      "2018-05-21         50098.05  \n",
      "2018-05-22         33526.64  \n",
      "2018-05-23         57154.33  \n",
      "2018-05-24         59282.36  \n",
      "2018-05-25         55148.61  \n",
      "2018-05-28         34957.35  \n",
      "2018-05-29         20571.07  \n",
      "2018-05-30         38401.09  \n",
      "2018-05-31        121299.68  \n",
      "2018-06-01         30734.67  \n",
      "2018-06-04         26328.48  \n",
      "2018-06-05         28889.24  \n",
      "2018-06-06         24919.30  \n",
      "2018-06-07         41812.10  \n",
      "2018-06-08         40615.75  \n",
      "2018-06-11         32649.23  \n",
      "2018-06-12         49313.00  \n",
      "2018-06-13         36769.82  \n",
      "2018-06-14         47218.44  \n",
      "2018-06-15        126442.85  \n",
      "2018-06-18         52294.99  \n",
      "2018-06-19         46947.87  \n",
      "2018-06-20         33441.40  \n",
      "2018-06-21         36173.84  \n",
      "2018-06-22         27143.13  \n",
      "2018-06-25         49133.64  \n",
      "2018-06-26         28632.59  \n",
      "2018-06-27         44560.49  \n",
      "2018-06-28         70933.80  \n",
      "2018-06-29         64698.91  \n",
      "\n",
      "[1737 rows x 7 columns]\n"
     ]
    }
   ],
   "source": [
    "df = quandl.get('NSE/INFY')\n",
    "print(df)"
   ]
  },
  {
   "cell_type": "code",
   "execution_count": 4,
   "metadata": {
    "collapsed": false,
    "deletable": true,
    "editable": true
   },
   "outputs": [
    {
     "name": "stdout",
     "output_type": "stream",
     "text": [
      "               Open     High    Close  Total Trade Quantity\n",
      "Date                                                       \n",
      "2011-06-29  2868.00  2907.00  2881.75              600094.0\n",
      "2011-06-30  2886.05  2919.00  2910.45             1417730.0\n",
      "2011-07-01  2935.00  2969.95  2934.15              800308.0\n",
      "2011-07-04  2966.65  2977.00  2938.95              514324.0\n",
      "2011-07-05  2957.00  2969.90  2956.45              802966.0\n"
     ]
    }
   ],
   "source": [
    "df = df[['Open','High','Close','Total Trade Quantity']]\n",
    "print(df.head())"
   ]
  },
  {
   "cell_type": "code",
   "execution_count": 5,
   "metadata": {
    "collapsed": false,
    "deletable": true,
    "editable": true
   },
   "outputs": [
    {
     "name": "stdout",
     "output_type": "stream",
     "text": [
      "               Open     High    Close  Total Trade Quantity    HC_PCT\n",
      "Date                                                                 \n",
      "2011-06-29  2868.00  2907.00  2881.75              600094.0  0.880404\n",
      "2011-06-30  2886.05  2919.00  2910.45             1417730.0  0.296253\n",
      "2011-07-01  2935.00  2969.95  2934.15              800308.0  1.219761\n",
      "2011-07-04  2966.65  2977.00  2938.95              514324.0  1.282591\n",
      "2011-07-05  2957.00  2969.90  2956.45              802966.0  0.454853\n"
     ]
    }
   ],
   "source": [
    "df['HC_PCT']=(df['High']-df['Close'])/df['Open']*100.0\n",
    "print(df.head())"
   ]
  },
  {
   "cell_type": "code",
   "execution_count": 6,
   "metadata": {
    "collapsed": false,
    "deletable": true,
    "editable": true
   },
   "outputs": [
    {
     "name": "stdout",
     "output_type": "stream",
     "text": [
      "               Open     High    Close  Total Trade Quantity    HC_PCT  \\\n",
      "Date                                                                    \n",
      "2011-06-29  2868.00  2907.00  2881.75              600094.0  0.880404   \n",
      "2011-06-30  2886.05  2919.00  2910.45             1417730.0  0.296253   \n",
      "2011-07-01  2935.00  2969.95  2934.15              800308.0  1.219761   \n",
      "2011-07-04  2966.65  2977.00  2938.95              514324.0  1.282591   \n",
      "2011-07-05  2957.00  2969.90  2956.45              802966.0  0.454853   \n",
      "\n",
      "            PCT_change  \n",
      "Date                    \n",
      "2011-06-29    0.479428  \n",
      "2011-06-30    0.845446  \n",
      "2011-07-01   -0.028961  \n",
      "2011-07-04   -0.933713  \n",
      "2011-07-05   -0.018600  \n"
     ]
    }
   ],
   "source": [
    "df['PCT_change'] = (df['Close']-df['Open'])/df['Open']*100.0\n",
    "print(df.head())"
   ]
  },
  {
   "cell_type": "code",
   "execution_count": 19,
   "metadata": {
    "collapsed": false,
    "deletable": true,
    "editable": true
   },
   "outputs": [
    {
     "name": "stdout",
     "output_type": "stream",
     "text": [
      "              Close    HC_PCT  PCT_change  Total Trade Quantity\n",
      "Date                                                           \n",
      "2011-06-29  2881.75  0.880404    0.479428              600094.0\n",
      "2011-06-30  2910.45  0.296253    0.845446             1417730.0\n",
      "2011-07-01  2934.15  1.219761   -0.028961              800308.0\n",
      "2011-07-04  2938.95  1.282591   -0.933713              514324.0\n",
      "2011-07-05  2956.45  0.454853   -0.018600              802966.0\n",
      "2011-07-06  2953.70  0.636240    0.227350              430028.0\n",
      "2011-07-07  2995.70  0.145506    1.370466              718934.0\n",
      "2011-07-08  2976.55  1.578333   -0.781667              708724.0\n",
      "2011-07-11  2921.15  1.860253   -1.108704             1150815.0\n",
      "2011-07-12  2791.55  2.050877   -2.050877             3706582.0\n",
      "2011-07-13  2777.30  1.086406    0.408532             1667271.0\n",
      "2011-07-14  2740.35  0.856806   -0.720949             1361403.0\n",
      "2011-07-15  2731.35  1.151603   -0.461006              799078.0\n",
      "2011-07-18  2713.40  1.091408   -0.789762             1176082.0\n",
      "2011-07-19  2750.50  0.422639    1.084160             1040553.0\n",
      "2011-07-20  2752.45  0.733915   -0.733915              777839.0\n",
      "2011-07-21  2768.10  0.597406    0.834183              737136.0\n",
      "2011-07-22  2828.25  0.565672    1.578494              968703.0\n",
      "1701\n"
     ]
    }
   ],
   "source": [
    "df = df[['Close','HC_PCT','PCT_change','Total Trade Quantity']]\n",
    "print(df.head(18))\n",
    "print(len(df))"
   ]
  },
  {
   "cell_type": "code",
   "execution_count": 22,
   "metadata": {
    "collapsed": false,
    "deletable": true,
    "editable": true
   },
   "outputs": [
    {
     "name": "stdout",
     "output_type": "stream",
     "text": [
      "forecast:  17\n",
      "              Close    HC_PCT  PCT_change  Total Trade Quantity    label\n",
      "Date                                                                    \n",
      "2011-06-29  2881.75  0.880404    0.479428              600094.0  2828.25\n",
      "2011-06-30  2910.45  0.296253    0.845446             1417730.0  2807.75\n",
      "2011-07-01  2934.15  1.219761   -0.028961              800308.0  2801.80\n",
      "2011-07-04  2938.95  1.282591   -0.933713              514324.0  2796.65\n",
      "2011-07-05  2956.45  0.454853   -0.018600              802966.0  2751.10\n",
      "2011-07-06  2953.70  0.636240    0.227350              430028.0  2775.90\n",
      "2011-07-07  2995.70  0.145506    1.370466              718934.0  2815.10\n",
      "2011-07-08  2976.55  1.578333   -0.781667              708724.0  2750.95\n",
      "2011-07-11  2921.15  1.860253   -1.108704             1150815.0  2732.60\n",
      "2011-07-12  2791.55  2.050877   -2.050877             3706582.0  2709.15\n",
      "2011-07-13  2777.30  1.086406    0.408532             1667271.0  2591.20\n",
      "2011-07-14  2740.35  0.856806   -0.720949             1361403.0  2470.50\n",
      "2011-07-15  2731.35  1.151603   -0.461006              799078.0  2374.55\n",
      "2011-07-18  2713.40  1.091408   -0.789762             1176082.0  2447.10\n",
      "2011-07-19  2750.50  0.422639    1.084160             1040553.0  2440.60\n",
      "2011-07-20  2752.45  0.733915   -0.733915              777839.0  2375.20\n",
      "2011-07-21  2768.10  0.597406    0.834183              737136.0  2399.30\n",
      "2011-07-22  2828.25  0.565672    1.578494              968703.0  2448.95\n",
      "2011-07-25  2807.75  0.613911   -0.363733              925532.0  2354.10\n",
      "2011-07-26  2801.80  0.790317   -0.256319              856092.0  2224.70\n",
      "2011-07-27  2796.65  1.401285   -0.155302             1063305.0  2194.60\n",
      "2011-07-28  2751.10  0.824593   -0.502712             1185172.0  2276.95\n",
      "2011-07-29  2775.90  0.238964    1.273258             1219699.0  2250.90\n",
      "2011-08-01  2815.10  0.312938    1.258948              761869.0  2183.40\n",
      "2011-08-02  2750.95  1.700881   -1.700881              616566.0  2202.55\n",
      "2011-08-03  2732.60  0.259598   -0.087751              705761.0  2296.25\n",
      "2011-08-04  2709.15  1.854015   -1.125912              816236.0  2342.95\n",
      "2011-08-05  2591.20  1.982146   -1.982146             1969759.0  2319.20\n",
      "2011-08-08  2470.50  1.180000   -1.180000             2021280.0  2265.10\n",
      "2011-08-09  2374.55  2.781795    1.001701             2106218.0  2302.55\n",
      "...             ...       ...         ...                   ...      ...\n",
      "2018-02-02  1143.25  1.730896    0.704691             5122243.0  1172.60\n",
      "2018-02-05  1138.20  1.460526   -0.157895             4930110.0  1160.75\n",
      "2018-02-06  1107.75  1.872812    0.709123             5276039.0  1155.90\n",
      "2018-02-07  1109.05  1.411290   -0.622760             4171028.0  1151.35\n",
      "2018-02-08  1134.25  1.082116    1.019772             4403622.0  1144.10\n",
      "2018-02-09  1109.15  0.997317   -0.791592             2191345.0  1156.65\n",
      "2018-02-12  1102.80  1.596699   -1.076426             3145986.0  1163.40\n",
      "2018-02-14  1097.75  1.767631   -0.745931             4172856.0  1185.75\n",
      "2018-02-15  1114.45  1.382593    1.038078             3993368.0  1183.80\n",
      "2018-02-16  1128.05  1.208889    0.271111             4944611.0  1180.80\n",
      "2018-02-19  1131.75  0.376639    0.296881             3230920.0  1182.50\n",
      "2018-02-20  1136.95  1.137033    3.007928             3594297.0  1171.90\n",
      "2018-02-21  1147.40  0.392157   -0.008715             6885679.0  1146.75\n",
      "2018-02-22  1160.75  0.283707    1.326874             8929987.0  1164.55\n",
      "2018-02-23  1155.65  0.889557   -0.674688             4729914.0  1167.50\n",
      "2018-02-26  1138.60  1.429192   -1.077324             2541804.0  1161.30\n",
      "2018-02-27  1150.20  0.301323    0.458535             3308013.0  1167.60\n",
      "2018-02-28  1172.60  1.472639    2.178459             8634208.0  1155.25\n",
      "2018-03-01  1160.75  0.756669   -0.756669             3289926.0  1154.00\n",
      "2018-03-05  1155.90  1.283653   -0.417833             4050728.0  1131.80\n",
      "2018-03-06  1151.35  1.208550   -0.963399             3344867.0  1137.15\n",
      "2018-03-07  1144.10  1.376623   -0.943723             3185208.0  1140.45\n",
      "2018-03-08  1156.65  0.796345    0.665796             3046507.0  1124.20\n",
      "2018-03-09  1163.40  0.223685    0.090334             2110482.0  1147.55\n",
      "2018-03-12  1185.75  0.518707    0.829082             3838485.0  1127.00\n",
      "2018-03-13  1183.80  1.118454    0.305033             4290526.0  1111.25\n",
      "2018-03-14  1180.80  0.830508    0.067797             2214855.0  1113.40\n",
      "2018-03-15  1182.50  0.500000    0.211864             3050750.0  1124.25\n",
      "2018-03-16  1171.90  0.888325   -0.854484             8977413.0  1162.60\n",
      "2018-03-19  1146.75  2.899485   -1.481959             3763310.0  1171.45\n",
      "\n",
      "[1666 rows x 5 columns]\n"
     ]
    }
   ],
   "source": [
    "forecast_col='Close'\n",
    "df.fillna(-99999, inplace=True)\n",
    "\n",
    "forecast_out = int(math.ceil(0.01*len(df)))\n",
    "print(\"forecast: \",forecast_out)\n",
    "df['label']=df[forecast_col].shift(-forecast_out)\n",
    "df.dropna(inplace=True)\n",
    "print(df)"
   ]
  },
  {
   "cell_type": "code",
   "execution_count": 28,
   "metadata": {
    "collapsed": false,
    "deletable": true,
    "editable": true
   },
   "outputs": [
    {
     "name": "stdout",
     "output_type": "stream",
     "text": [
      "1666 1666\n",
      "[[  2.88175000e+03   8.80404463e-01   4.79428173e-01   6.00094000e+05]\n",
      " [  2.91045000e+03   2.96252664e-01   8.45446198e-01   1.41773000e+06]\n",
      " [  2.93415000e+03   1.21976150e+00  -2.89608177e-02   8.00308000e+05]\n",
      " ..., \n",
      " [  1.18250000e+03   5.00000000e-01   2.11864407e-01   3.05075000e+06]\n",
      " [  1.17190000e+03   8.88324873e-01  -8.54483926e-01   8.97741300e+06]\n",
      " [  1.14675000e+03   2.89948454e+00  -1.48195876e+00   3.76331000e+06]]\n",
      "628723.166278\n",
      "________________\n",
      "[[ 0.84650219 -0.17845327  0.34606335 -0.55781835]\n",
      " [ 0.87660177 -0.80075817  0.60636921 -0.31936649]\n",
      " [ 0.90145753  0.18306841 -0.01549435 -0.4994288 ]\n",
      " ..., \n",
      " [-0.93561324 -0.58370335  0.1557765   0.15688047]\n",
      " [-0.94673016 -0.17001555 -0.60259249  1.8853071 ]\n",
      " [-0.97310662  1.97250032 -1.04884204  0.36468842]]\n",
      "___________\n",
      "1666 1666\n"
     ]
    }
   ],
   "source": [
    "x = np.array(df.drop(['label'],1))\n",
    "y = np.array(df['label'])\n",
    "print(len(x),len(y))\n",
    "print(x)\n",
    "print(np.mean(x))\n",
    "x = preprocessing.scale(x)\n",
    "print(\"________________\")\n",
    "print(x)\n",
    "print(\"________________\")\n",
    "print(len(x),len(y))"
   ]
  },
  {
   "cell_type": "code",
   "execution_count": 31,
   "metadata": {
    "collapsed": false,
    "deletable": true,
    "editable": true
   },
   "outputs": [
    {
     "name": "stdout",
     "output_type": "stream",
     "text": [
      "0.942658172738\n"
     ]
    }
   ],
   "source": [
    "x_train,x_test,y_train,y_test = cross_validation.train_test_split(x,y,test_size=0.2)\n",
    "clf = LinearRegression()\n",
    "clf.fit(x_train,y_train)\n",
    "accuracy = clf.score(x_test,y_test)\n",
    "print(accuracy)"
   ]
  },
  {
   "cell_type": "code",
   "execution_count": 32,
   "metadata": {
    "collapsed": false,
    "deletable": true,
    "editable": true
   },
   "outputs": [
    {
     "name": "stdout",
     "output_type": "stream",
     "text": [
      "0.316241443654\n"
     ]
    }
   ],
   "source": [
    "x_train,x_test,y_train,y_test = cross_validation.train_test_split(x,y,test_size=0.2)\n",
    "clf = svm.SVR()\n",
    "clf.fit(x_train,y_train)\n",
    "accuracy = clf.score(x_test,y_test)\n",
    "print(accuracy)"
   ]
  },
  {
   "cell_type": "code",
   "execution_count": 2,
   "metadata": {
    "collapsed": false,
    "deletable": true,
    "editable": true
   },
   "outputs": [
    {
     "name": "stderr",
     "output_type": "stream",
     "text": [
      "Using TensorFlow backend.\n"
     ]
    },
    {
     "ename": "ImportError",
     "evalue": "Traceback (most recent call last):\n  File \"C:\\Users\\Rishabh\\AppData\\Local\\Enthought\\Canopy\\edm\\envs\\User\\lib\\site-packages\\tensorflow\\python\\pywrap_tensorflow_internal.py\", line 14, in swig_import_helper\n    return importlib.import_module(mname)\n  File \"C:\\Users\\Rishabh\\AppData\\Local\\Enthought\\Canopy\\edm\\envs\\User\\lib\\importlib\\__init__.py\", line 126, in import_module\n    return _bootstrap._gcd_import(name[level:], package, level)\n  File \"<frozen importlib._bootstrap>\", line 986, in _gcd_import\n  File \"<frozen importlib._bootstrap>\", line 969, in _find_and_load\n  File \"<frozen importlib._bootstrap>\", line 958, in _find_and_load_unlocked\n  File \"<frozen importlib._bootstrap>\", line 666, in _load_unlocked\n  File \"<frozen importlib._bootstrap>\", line 577, in module_from_spec\n  File \"<frozen importlib._bootstrap_external>\", line 906, in create_module\n  File \"<frozen importlib._bootstrap>\", line 222, in _call_with_frames_removed\nImportError: DLL load failed with error code -1073741795\n\nDuring handling of the above exception, another exception occurred:\n\nTraceback (most recent call last):\n  File \"C:\\Users\\Rishabh\\AppData\\Local\\Enthought\\Canopy\\edm\\envs\\User\\lib\\site-packages\\tensorflow\\python\\pywrap_tensorflow.py\", line 58, in <module>\n    from tensorflow.python.pywrap_tensorflow_internal import *\n  File \"C:\\Users\\Rishabh\\AppData\\Local\\Enthought\\Canopy\\edm\\envs\\User\\lib\\site-packages\\tensorflow\\python\\pywrap_tensorflow_internal.py\", line 17, in <module>\n    _pywrap_tensorflow_internal = swig_import_helper()\n  File \"C:\\Users\\Rishabh\\AppData\\Local\\Enthought\\Canopy\\edm\\envs\\User\\lib\\site-packages\\tensorflow\\python\\pywrap_tensorflow_internal.py\", line 16, in swig_import_helper\n    return importlib.import_module('_pywrap_tensorflow_internal')\n  File \"C:\\Users\\Rishabh\\AppData\\Local\\Enthought\\Canopy\\edm\\envs\\User\\lib\\importlib\\__init__.py\", line 126, in import_module\n    return _bootstrap._gcd_import(name[level:], package, level)\nImportError: No module named '_pywrap_tensorflow_internal'\n\n\nFailed to load the native TensorFlow runtime.\n\nSee https://www.tensorflow.org/install/install_sources#common_installation_problems\n\nfor some common reasons and solutions.  Include the entire stack trace\nabove this error message when asking for help.",
     "output_type": "error",
     "traceback": [
      "\u001b[1;31m---------------------------------------------------------------------------\u001b[0m",
      "\u001b[1;31mImportError\u001b[0m                               Traceback (most recent call last)",
      "\u001b[1;32mC:\\Users\\Rishabh\\AppData\\Local\\Enthought\\Canopy\\edm\\envs\\User\\lib\\site-packages\\tensorflow\\python\\pywrap_tensorflow_internal.py\u001b[0m in \u001b[0;36mswig_import_helper\u001b[1;34m()\u001b[0m\n\u001b[0;32m     13\u001b[0m         \u001b[1;32mtry\u001b[0m\u001b[1;33m:\u001b[0m\u001b[1;33m\u001b[0m\u001b[0m\n\u001b[1;32m---> 14\u001b[1;33m             \u001b[1;32mreturn\u001b[0m \u001b[0mimportlib\u001b[0m\u001b[1;33m.\u001b[0m\u001b[0mimport_module\u001b[0m\u001b[1;33m(\u001b[0m\u001b[0mmname\u001b[0m\u001b[1;33m)\u001b[0m\u001b[1;33m\u001b[0m\u001b[0m\n\u001b[0m\u001b[0;32m     15\u001b[0m         \u001b[1;32mexcept\u001b[0m \u001b[0mImportError\u001b[0m\u001b[1;33m:\u001b[0m\u001b[1;33m\u001b[0m\u001b[0m\n",
      "\u001b[1;32mC:\\Users\\Rishabh\\AppData\\Local\\Enthought\\Canopy\\edm\\envs\\User\\lib\\importlib\\__init__.py\u001b[0m in \u001b[0;36mimport_module\u001b[1;34m(name, package)\u001b[0m\n\u001b[0;32m    125\u001b[0m             \u001b[0mlevel\u001b[0m \u001b[1;33m+=\u001b[0m \u001b[1;36m1\u001b[0m\u001b[1;33m\u001b[0m\u001b[0m\n\u001b[1;32m--> 126\u001b[1;33m     \u001b[1;32mreturn\u001b[0m \u001b[0m_bootstrap\u001b[0m\u001b[1;33m.\u001b[0m\u001b[0m_gcd_import\u001b[0m\u001b[1;33m(\u001b[0m\u001b[0mname\u001b[0m\u001b[1;33m[\u001b[0m\u001b[0mlevel\u001b[0m\u001b[1;33m:\u001b[0m\u001b[1;33m]\u001b[0m\u001b[1;33m,\u001b[0m \u001b[0mpackage\u001b[0m\u001b[1;33m,\u001b[0m \u001b[0mlevel\u001b[0m\u001b[1;33m)\u001b[0m\u001b[1;33m\u001b[0m\u001b[0m\n\u001b[0m\u001b[0;32m    127\u001b[0m \u001b[1;33m\u001b[0m\u001b[0m\n",
      "\u001b[1;32mC:\\Users\\Rishabh\\AppData\\Local\\Enthought\\Canopy\\edm\\envs\\User\\lib\\importlib\\_bootstrap.py\u001b[0m in \u001b[0;36m_gcd_import\u001b[1;34m(name, package, level)\u001b[0m\n",
      "\u001b[1;32mC:\\Users\\Rishabh\\AppData\\Local\\Enthought\\Canopy\\edm\\envs\\User\\lib\\importlib\\_bootstrap.py\u001b[0m in \u001b[0;36m_find_and_load\u001b[1;34m(name, import_)\u001b[0m\n",
      "\u001b[1;32mC:\\Users\\Rishabh\\AppData\\Local\\Enthought\\Canopy\\edm\\envs\\User\\lib\\importlib\\_bootstrap.py\u001b[0m in \u001b[0;36m_find_and_load_unlocked\u001b[1;34m(name, import_)\u001b[0m\n",
      "\u001b[1;32mC:\\Users\\Rishabh\\AppData\\Local\\Enthought\\Canopy\\edm\\envs\\User\\lib\\importlib\\_bootstrap.py\u001b[0m in \u001b[0;36m_load_unlocked\u001b[1;34m(spec)\u001b[0m\n",
      "\u001b[1;32mC:\\Users\\Rishabh\\AppData\\Local\\Enthought\\Canopy\\edm\\envs\\User\\lib\\importlib\\_bootstrap.py\u001b[0m in \u001b[0;36mmodule_from_spec\u001b[1;34m(spec)\u001b[0m\n",
      "\u001b[1;32mC:\\Users\\Rishabh\\AppData\\Local\\Enthought\\Canopy\\edm\\envs\\User\\lib\\importlib\\_bootstrap_external.py\u001b[0m in \u001b[0;36mcreate_module\u001b[1;34m(self, spec)\u001b[0m\n",
      "\u001b[1;32mC:\\Users\\Rishabh\\AppData\\Local\\Enthought\\Canopy\\edm\\envs\\User\\lib\\importlib\\_bootstrap.py\u001b[0m in \u001b[0;36m_call_with_frames_removed\u001b[1;34m(f, *args, **kwds)\u001b[0m\n",
      "\u001b[1;31mImportError\u001b[0m: DLL load failed with error code -1073741795",
      "\nDuring handling of the above exception, another exception occurred:\n",
      "\u001b[1;31mImportError\u001b[0m                               Traceback (most recent call last)",
      "\u001b[1;32mC:\\Users\\Rishabh\\AppData\\Local\\Enthought\\Canopy\\edm\\envs\\User\\lib\\site-packages\\tensorflow\\python\\pywrap_tensorflow.py\u001b[0m in \u001b[0;36m<module>\u001b[1;34m()\u001b[0m\n\u001b[0;32m     57\u001b[0m \u001b[1;33m\u001b[0m\u001b[0m\n\u001b[1;32m---> 58\u001b[1;33m   \u001b[1;32mfrom\u001b[0m \u001b[0mtensorflow\u001b[0m\u001b[1;33m.\u001b[0m\u001b[0mpython\u001b[0m\u001b[1;33m.\u001b[0m\u001b[0mpywrap_tensorflow_internal\u001b[0m \u001b[1;32mimport\u001b[0m \u001b[1;33m*\u001b[0m\u001b[1;33m\u001b[0m\u001b[0m\n\u001b[0m\u001b[0;32m     59\u001b[0m   \u001b[1;32mfrom\u001b[0m \u001b[0mtensorflow\u001b[0m\u001b[1;33m.\u001b[0m\u001b[0mpython\u001b[0m\u001b[1;33m.\u001b[0m\u001b[0mpywrap_tensorflow_internal\u001b[0m \u001b[1;32mimport\u001b[0m \u001b[0m__version__\u001b[0m\u001b[1;33m\u001b[0m\u001b[0m\n",
      "\u001b[1;32mC:\\Users\\Rishabh\\AppData\\Local\\Enthought\\Canopy\\edm\\envs\\User\\lib\\site-packages\\tensorflow\\python\\pywrap_tensorflow_internal.py\u001b[0m in \u001b[0;36m<module>\u001b[1;34m()\u001b[0m\n\u001b[0;32m     16\u001b[0m             \u001b[1;32mreturn\u001b[0m \u001b[0mimportlib\u001b[0m\u001b[1;33m.\u001b[0m\u001b[0mimport_module\u001b[0m\u001b[1;33m(\u001b[0m\u001b[1;34m'_pywrap_tensorflow_internal'\u001b[0m\u001b[1;33m)\u001b[0m\u001b[1;33m\u001b[0m\u001b[0m\n\u001b[1;32m---> 17\u001b[1;33m     \u001b[0m_pywrap_tensorflow_internal\u001b[0m \u001b[1;33m=\u001b[0m \u001b[0mswig_import_helper\u001b[0m\u001b[1;33m(\u001b[0m\u001b[1;33m)\u001b[0m\u001b[1;33m\u001b[0m\u001b[0m\n\u001b[0m\u001b[0;32m     18\u001b[0m     \u001b[1;32mdel\u001b[0m \u001b[0mswig_import_helper\u001b[0m\u001b[1;33m\u001b[0m\u001b[0m\n",
      "\u001b[1;32mC:\\Users\\Rishabh\\AppData\\Local\\Enthought\\Canopy\\edm\\envs\\User\\lib\\site-packages\\tensorflow\\python\\pywrap_tensorflow_internal.py\u001b[0m in \u001b[0;36mswig_import_helper\u001b[1;34m()\u001b[0m\n\u001b[0;32m     15\u001b[0m         \u001b[1;32mexcept\u001b[0m \u001b[0mImportError\u001b[0m\u001b[1;33m:\u001b[0m\u001b[1;33m\u001b[0m\u001b[0m\n\u001b[1;32m---> 16\u001b[1;33m             \u001b[1;32mreturn\u001b[0m \u001b[0mimportlib\u001b[0m\u001b[1;33m.\u001b[0m\u001b[0mimport_module\u001b[0m\u001b[1;33m(\u001b[0m\u001b[1;34m'_pywrap_tensorflow_internal'\u001b[0m\u001b[1;33m)\u001b[0m\u001b[1;33m\u001b[0m\u001b[0m\n\u001b[0m\u001b[0;32m     17\u001b[0m     \u001b[0m_pywrap_tensorflow_internal\u001b[0m \u001b[1;33m=\u001b[0m \u001b[0mswig_import_helper\u001b[0m\u001b[1;33m(\u001b[0m\u001b[1;33m)\u001b[0m\u001b[1;33m\u001b[0m\u001b[0m\n",
      "\u001b[1;32mC:\\Users\\Rishabh\\AppData\\Local\\Enthought\\Canopy\\edm\\envs\\User\\lib\\importlib\\__init__.py\u001b[0m in \u001b[0;36mimport_module\u001b[1;34m(name, package)\u001b[0m\n\u001b[0;32m    125\u001b[0m             \u001b[0mlevel\u001b[0m \u001b[1;33m+=\u001b[0m \u001b[1;36m1\u001b[0m\u001b[1;33m\u001b[0m\u001b[0m\n\u001b[1;32m--> 126\u001b[1;33m     \u001b[1;32mreturn\u001b[0m \u001b[0m_bootstrap\u001b[0m\u001b[1;33m.\u001b[0m\u001b[0m_gcd_import\u001b[0m\u001b[1;33m(\u001b[0m\u001b[0mname\u001b[0m\u001b[1;33m[\u001b[0m\u001b[0mlevel\u001b[0m\u001b[1;33m:\u001b[0m\u001b[1;33m]\u001b[0m\u001b[1;33m,\u001b[0m \u001b[0mpackage\u001b[0m\u001b[1;33m,\u001b[0m \u001b[0mlevel\u001b[0m\u001b[1;33m)\u001b[0m\u001b[1;33m\u001b[0m\u001b[0m\n\u001b[0m\u001b[0;32m    127\u001b[0m \u001b[1;33m\u001b[0m\u001b[0m\n",
      "\u001b[1;31mImportError\u001b[0m: No module named '_pywrap_tensorflow_internal'",
      "\nDuring handling of the above exception, another exception occurred:\n",
      "\u001b[1;31mImportError\u001b[0m                               Traceback (most recent call last)",
      "\u001b[1;32m<ipython-input-2-c74e2bd4ca71>\u001b[0m in \u001b[0;36m<module>\u001b[1;34m()\u001b[0m\n\u001b[1;32m----> 1\u001b[1;33m \u001b[1;32mimport\u001b[0m \u001b[0mkeras\u001b[0m\u001b[1;33m\u001b[0m\u001b[0m\n\u001b[0m",
      "\u001b[1;32mC:\\Users\\Rishabh\\AppData\\Local\\Enthought\\Canopy\\edm\\envs\\User\\lib\\site-packages\\keras\\__init__.py\u001b[0m in \u001b[0;36m<module>\u001b[1;34m()\u001b[0m\n\u001b[0;32m      1\u001b[0m \u001b[1;32mfrom\u001b[0m \u001b[0m__future__\u001b[0m \u001b[1;32mimport\u001b[0m \u001b[0mabsolute_import\u001b[0m\u001b[1;33m\u001b[0m\u001b[0m\n\u001b[0;32m      2\u001b[0m \u001b[1;33m\u001b[0m\u001b[0m\n\u001b[1;32m----> 3\u001b[1;33m \u001b[1;32mfrom\u001b[0m \u001b[1;33m.\u001b[0m \u001b[1;32mimport\u001b[0m \u001b[0mutils\u001b[0m\u001b[1;33m\u001b[0m\u001b[0m\n\u001b[0m\u001b[0;32m      4\u001b[0m \u001b[1;32mfrom\u001b[0m \u001b[1;33m.\u001b[0m \u001b[1;32mimport\u001b[0m \u001b[0mactivations\u001b[0m\u001b[1;33m\u001b[0m\u001b[0m\n\u001b[0;32m      5\u001b[0m \u001b[1;32mfrom\u001b[0m \u001b[1;33m.\u001b[0m \u001b[1;32mimport\u001b[0m \u001b[0mapplications\u001b[0m\u001b[1;33m\u001b[0m\u001b[0m\n",
      "\u001b[1;32mC:\\Users\\Rishabh\\AppData\\Local\\Enthought\\Canopy\\edm\\envs\\User\\lib\\site-packages\\keras\\utils\\__init__.py\u001b[0m in \u001b[0;36m<module>\u001b[1;34m()\u001b[0m\n\u001b[0;32m      4\u001b[0m \u001b[1;32mfrom\u001b[0m \u001b[1;33m.\u001b[0m \u001b[1;32mimport\u001b[0m \u001b[0mdata_utils\u001b[0m\u001b[1;33m\u001b[0m\u001b[0m\n\u001b[0;32m      5\u001b[0m \u001b[1;32mfrom\u001b[0m \u001b[1;33m.\u001b[0m \u001b[1;32mimport\u001b[0m \u001b[0mio_utils\u001b[0m\u001b[1;33m\u001b[0m\u001b[0m\n\u001b[1;32m----> 6\u001b[1;33m \u001b[1;32mfrom\u001b[0m \u001b[1;33m.\u001b[0m \u001b[1;32mimport\u001b[0m \u001b[0mconv_utils\u001b[0m\u001b[1;33m\u001b[0m\u001b[0m\n\u001b[0m\u001b[0;32m      7\u001b[0m \u001b[1;33m\u001b[0m\u001b[0m\n\u001b[0;32m      8\u001b[0m \u001b[1;31m# Globally-importable utils.\u001b[0m\u001b[1;33m\u001b[0m\u001b[1;33m\u001b[0m\u001b[0m\n",
      "\u001b[1;32mC:\\Users\\Rishabh\\AppData\\Local\\Enthought\\Canopy\\edm\\envs\\User\\lib\\site-packages\\keras\\utils\\conv_utils.py\u001b[0m in \u001b[0;36m<module>\u001b[1;34m()\u001b[0m\n\u001b[0;32m      7\u001b[0m \u001b[1;32mfrom\u001b[0m \u001b[0msix\u001b[0m\u001b[1;33m.\u001b[0m\u001b[0mmoves\u001b[0m \u001b[1;32mimport\u001b[0m \u001b[0mrange\u001b[0m\u001b[1;33m\u001b[0m\u001b[0m\n\u001b[0;32m      8\u001b[0m \u001b[1;32mimport\u001b[0m \u001b[0mnumpy\u001b[0m \u001b[1;32mas\u001b[0m \u001b[0mnp\u001b[0m\u001b[1;33m\u001b[0m\u001b[0m\n\u001b[1;32m----> 9\u001b[1;33m \u001b[1;32mfrom\u001b[0m \u001b[1;33m.\u001b[0m\u001b[1;33m.\u001b[0m \u001b[1;32mimport\u001b[0m \u001b[0mbackend\u001b[0m \u001b[1;32mas\u001b[0m \u001b[0mK\u001b[0m\u001b[1;33m\u001b[0m\u001b[0m\n\u001b[0m\u001b[0;32m     10\u001b[0m \u001b[1;33m\u001b[0m\u001b[0m\n\u001b[0;32m     11\u001b[0m \u001b[1;33m\u001b[0m\u001b[0m\n",
      "\u001b[1;32mC:\\Users\\Rishabh\\AppData\\Local\\Enthought\\Canopy\\edm\\envs\\User\\lib\\site-packages\\keras\\backend\\__init__.py\u001b[0m in \u001b[0;36m<module>\u001b[1;34m()\u001b[0m\n\u001b[0;32m     85\u001b[0m \u001b[1;32melif\u001b[0m \u001b[0m_BACKEND\u001b[0m \u001b[1;33m==\u001b[0m \u001b[1;34m'tensorflow'\u001b[0m\u001b[1;33m:\u001b[0m\u001b[1;33m\u001b[0m\u001b[0m\n\u001b[0;32m     86\u001b[0m     \u001b[0msys\u001b[0m\u001b[1;33m.\u001b[0m\u001b[0mstderr\u001b[0m\u001b[1;33m.\u001b[0m\u001b[0mwrite\u001b[0m\u001b[1;33m(\u001b[0m\u001b[1;34m'Using TensorFlow backend.\\n'\u001b[0m\u001b[1;33m)\u001b[0m\u001b[1;33m\u001b[0m\u001b[0m\n\u001b[1;32m---> 87\u001b[1;33m     \u001b[1;32mfrom\u001b[0m \u001b[1;33m.\u001b[0m\u001b[0mtensorflow_backend\u001b[0m \u001b[1;32mimport\u001b[0m \u001b[1;33m*\u001b[0m\u001b[1;33m\u001b[0m\u001b[0m\n\u001b[0m\u001b[0;32m     88\u001b[0m \u001b[1;32melse\u001b[0m\u001b[1;33m:\u001b[0m\u001b[1;33m\u001b[0m\u001b[0m\n\u001b[0;32m     89\u001b[0m     \u001b[1;31m# Try and load external backend.\u001b[0m\u001b[1;33m\u001b[0m\u001b[1;33m\u001b[0m\u001b[0m\n",
      "\u001b[1;32mC:\\Users\\Rishabh\\AppData\\Local\\Enthought\\Canopy\\edm\\envs\\User\\lib\\site-packages\\keras\\backend\\tensorflow_backend.py\u001b[0m in \u001b[0;36m<module>\u001b[1;34m()\u001b[0m\n\u001b[0;32m      3\u001b[0m \u001b[1;32mfrom\u001b[0m \u001b[0m__future__\u001b[0m \u001b[1;32mimport\u001b[0m \u001b[0mprint_function\u001b[0m\u001b[1;33m\u001b[0m\u001b[0m\n\u001b[0;32m      4\u001b[0m \u001b[1;33m\u001b[0m\u001b[0m\n\u001b[1;32m----> 5\u001b[1;33m \u001b[1;32mimport\u001b[0m \u001b[0mtensorflow\u001b[0m \u001b[1;32mas\u001b[0m \u001b[0mtf\u001b[0m\u001b[1;33m\u001b[0m\u001b[0m\n\u001b[0m\u001b[0;32m      6\u001b[0m \u001b[1;32mfrom\u001b[0m \u001b[0mtensorflow\u001b[0m\u001b[1;33m.\u001b[0m\u001b[0mpython\u001b[0m\u001b[1;33m.\u001b[0m\u001b[0mframework\u001b[0m \u001b[1;32mimport\u001b[0m \u001b[0mops\u001b[0m \u001b[1;32mas\u001b[0m \u001b[0mtf_ops\u001b[0m\u001b[1;33m\u001b[0m\u001b[0m\n\u001b[0;32m      7\u001b[0m \u001b[1;32mfrom\u001b[0m \u001b[0mtensorflow\u001b[0m\u001b[1;33m.\u001b[0m\u001b[0mpython\u001b[0m\u001b[1;33m.\u001b[0m\u001b[0mtraining\u001b[0m \u001b[1;32mimport\u001b[0m \u001b[0mmoving_averages\u001b[0m\u001b[1;33m\u001b[0m\u001b[0m\n",
      "\u001b[1;32mC:\\Users\\Rishabh\\AppData\\Local\\Enthought\\Canopy\\edm\\envs\\User\\lib\\site-packages\\tensorflow\\__init__.py\u001b[0m in \u001b[0;36m<module>\u001b[1;34m()\u001b[0m\n\u001b[0;32m     22\u001b[0m \u001b[1;33m\u001b[0m\u001b[0m\n\u001b[0;32m     23\u001b[0m \u001b[1;31m# pylint: disable=g-bad-import-order\u001b[0m\u001b[1;33m\u001b[0m\u001b[1;33m\u001b[0m\u001b[0m\n\u001b[1;32m---> 24\u001b[1;33m \u001b[1;32mfrom\u001b[0m \u001b[0mtensorflow\u001b[0m\u001b[1;33m.\u001b[0m\u001b[0mpython\u001b[0m \u001b[1;32mimport\u001b[0m \u001b[0mpywrap_tensorflow\u001b[0m  \u001b[1;31m# pylint: disable=unused-import\u001b[0m\u001b[1;33m\u001b[0m\u001b[0m\n\u001b[0m\u001b[0;32m     25\u001b[0m \u001b[1;31m# pylint: disable=wildcard-import\u001b[0m\u001b[1;33m\u001b[0m\u001b[1;33m\u001b[0m\u001b[0m\n\u001b[0;32m     26\u001b[0m \u001b[1;32mfrom\u001b[0m \u001b[0mtensorflow\u001b[0m\u001b[1;33m.\u001b[0m\u001b[0mtools\u001b[0m\u001b[1;33m.\u001b[0m\u001b[0mapi\u001b[0m\u001b[1;33m.\u001b[0m\u001b[0mgenerator\u001b[0m\u001b[1;33m.\u001b[0m\u001b[0mapi\u001b[0m \u001b[1;32mimport\u001b[0m \u001b[1;33m*\u001b[0m  \u001b[1;31m# pylint: disable=redefined-builtin\u001b[0m\u001b[1;33m\u001b[0m\u001b[0m\n",
      "\u001b[1;32mC:\\Users\\Rishabh\\AppData\\Local\\Enthought\\Canopy\\edm\\envs\\User\\lib\\site-packages\\tensorflow\\python\\__init__.py\u001b[0m in \u001b[0;36m<module>\u001b[1;34m()\u001b[0m\n\u001b[0;32m     47\u001b[0m \u001b[1;32mimport\u001b[0m \u001b[0mnumpy\u001b[0m \u001b[1;32mas\u001b[0m \u001b[0mnp\u001b[0m\u001b[1;33m\u001b[0m\u001b[0m\n\u001b[0;32m     48\u001b[0m \u001b[1;33m\u001b[0m\u001b[0m\n\u001b[1;32m---> 49\u001b[1;33m \u001b[1;32mfrom\u001b[0m \u001b[0mtensorflow\u001b[0m\u001b[1;33m.\u001b[0m\u001b[0mpython\u001b[0m \u001b[1;32mimport\u001b[0m \u001b[0mpywrap_tensorflow\u001b[0m\u001b[1;33m\u001b[0m\u001b[0m\n\u001b[0m\u001b[0;32m     50\u001b[0m \u001b[1;33m\u001b[0m\u001b[0m\n\u001b[0;32m     51\u001b[0m \u001b[1;31m# Protocol buffers\u001b[0m\u001b[1;33m\u001b[0m\u001b[1;33m\u001b[0m\u001b[0m\n",
      "\u001b[1;32mC:\\Users\\Rishabh\\AppData\\Local\\Enthought\\Canopy\\edm\\envs\\User\\lib\\site-packages\\tensorflow\\python\\pywrap_tensorflow.py\u001b[0m in \u001b[0;36m<module>\u001b[1;34m()\u001b[0m\n\u001b[0;32m     72\u001b[0m \u001b[1;32mfor\u001b[0m \u001b[0msome\u001b[0m \u001b[0mcommon\u001b[0m \u001b[0mreasons\u001b[0m \u001b[1;32mand\u001b[0m \u001b[0msolutions\u001b[0m\u001b[1;33m.\u001b[0m  \u001b[0mInclude\u001b[0m \u001b[0mthe\u001b[0m \u001b[0mentire\u001b[0m \u001b[0mstack\u001b[0m \u001b[0mtrace\u001b[0m\u001b[1;33m\u001b[0m\u001b[0m\n\u001b[0;32m     73\u001b[0m above this error message when asking for help.\"\"\" % traceback.format_exc()\n\u001b[1;32m---> 74\u001b[1;33m   \u001b[1;32mraise\u001b[0m \u001b[0mImportError\u001b[0m\u001b[1;33m(\u001b[0m\u001b[0mmsg\u001b[0m\u001b[1;33m)\u001b[0m\u001b[1;33m\u001b[0m\u001b[0m\n\u001b[0m\u001b[0;32m     75\u001b[0m \u001b[1;33m\u001b[0m\u001b[0m\n\u001b[0;32m     76\u001b[0m \u001b[1;31m# pylint: enable=wildcard-import,g-import-not-at-top,unused-import,line-too-long\u001b[0m\u001b[1;33m\u001b[0m\u001b[1;33m\u001b[0m\u001b[0m\n",
      "\u001b[1;31mImportError\u001b[0m: Traceback (most recent call last):\n  File \"C:\\Users\\Rishabh\\AppData\\Local\\Enthought\\Canopy\\edm\\envs\\User\\lib\\site-packages\\tensorflow\\python\\pywrap_tensorflow_internal.py\", line 14, in swig_import_helper\n    return importlib.import_module(mname)\n  File \"C:\\Users\\Rishabh\\AppData\\Local\\Enthought\\Canopy\\edm\\envs\\User\\lib\\importlib\\__init__.py\", line 126, in import_module\n    return _bootstrap._gcd_import(name[level:], package, level)\n  File \"<frozen importlib._bootstrap>\", line 986, in _gcd_import\n  File \"<frozen importlib._bootstrap>\", line 969, in _find_and_load\n  File \"<frozen importlib._bootstrap>\", line 958, in _find_and_load_unlocked\n  File \"<frozen importlib._bootstrap>\", line 666, in _load_unlocked\n  File \"<frozen importlib._bootstrap>\", line 577, in module_from_spec\n  File \"<frozen importlib._bootstrap_external>\", line 906, in create_module\n  File \"<frozen importlib._bootstrap>\", line 222, in _call_with_frames_removed\nImportError: DLL load failed with error code -1073741795\n\nDuring handling of the above exception, another exception occurred:\n\nTraceback (most recent call last):\n  File \"C:\\Users\\Rishabh\\AppData\\Local\\Enthought\\Canopy\\edm\\envs\\User\\lib\\site-packages\\tensorflow\\python\\pywrap_tensorflow.py\", line 58, in <module>\n    from tensorflow.python.pywrap_tensorflow_internal import *\n  File \"C:\\Users\\Rishabh\\AppData\\Local\\Enthought\\Canopy\\edm\\envs\\User\\lib\\site-packages\\tensorflow\\python\\pywrap_tensorflow_internal.py\", line 17, in <module>\n    _pywrap_tensorflow_internal = swig_import_helper()\n  File \"C:\\Users\\Rishabh\\AppData\\Local\\Enthought\\Canopy\\edm\\envs\\User\\lib\\site-packages\\tensorflow\\python\\pywrap_tensorflow_internal.py\", line 16, in swig_import_helper\n    return importlib.import_module('_pywrap_tensorflow_internal')\n  File \"C:\\Users\\Rishabh\\AppData\\Local\\Enthought\\Canopy\\edm\\envs\\User\\lib\\importlib\\__init__.py\", line 126, in import_module\n    return _bootstrap._gcd_import(name[level:], package, level)\nImportError: No module named '_pywrap_tensorflow_internal'\n\n\nFailed to load the native TensorFlow runtime.\n\nSee https://www.tensorflow.org/install/install_sources#common_installation_problems\n\nfor some common reasons and solutions.  Include the entire stack trace\nabove this error message when asking for help."
     ]
    }
   ],
   "source": [
    "import keras"
   ]
  },
  {
   "cell_type": "code",
   "execution_count": null,
   "metadata": {
    "collapsed": true
   },
   "outputs": [],
   "source": [
    "impoer"
   ]
  }
 ],
 "metadata": {
  "kernelspec": {
   "display_name": "Python 3",
   "language": "python",
   "name": "python3"
  },
  "language_info": {
   "codemirror_mode": {
    "name": "ipython",
    "version": 3
   },
   "file_extension": ".py",
   "mimetype": "text/x-python",
   "name": "python",
   "nbconvert_exporter": "python",
   "pygments_lexer": "ipython3",
   "version": "3.5.2"
  }
 },
 "nbformat": 4,
 "nbformat_minor": 2
}
