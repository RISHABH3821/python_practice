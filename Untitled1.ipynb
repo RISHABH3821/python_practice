{
 "cells": [
  {
   "cell_type": "code",
   "execution_count": 5,
   "metadata": {
    "collapsed": false
   },
   "outputs": [
    {
     "name": "stdout",
     "output_type": "stream",
     "text": [
      "Content-Type: text/html \r\n",
      "\r\n",
      "\n",
      "<html>\n",
      "<body>\n",
      "[] </br>\n",
      "</body>\n",
      "</html>\n"
     ]
    }
   ],
   "source": [
    "import cgi\n",
    "import cgitb;cgitb.enable()\n",
    "print(\"Content-Type: text/html \\r\\n\\r\\n\")\n",
    "print(\"<html>\")\n",
    "print(\"<body>\")\n",
    "arguments = cgi.FieldStorage()\n",
    "print(arguments.keys(),\"</br>\")\n",
    "for i in arguments.keys():\n",
    "    print(arguments(1).value)\n",
    "print(\"</body>\")\n",
    "print(\"</html>\")\n"
   ]
  },
  {
   "cell_type": "code",
   "execution_count": null,
   "metadata": {
    "collapsed": true
   },
   "outputs": [],
   "source": []
  }
 ],
 "metadata": {
  "kernelspec": {
   "display_name": "Python 3",
   "language": "python",
   "name": "python3"
  },
  "language_info": {
   "codemirror_mode": {
    "name": "ipython",
    "version": 3
   },
   "file_extension": ".py",
   "mimetype": "text/x-python",
   "name": "python",
   "nbconvert_exporter": "python",
   "pygments_lexer": "ipython3",
   "version": "3.5.2"
  }
 },
 "nbformat": 4,
 "nbformat_minor": 2
}
