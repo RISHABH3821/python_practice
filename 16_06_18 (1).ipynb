{
 "cells": [
  {
   "cell_type": "code",
   "execution_count": 9,
   "metadata": {
    "collapsed": true
   },
   "outputs": [],
   "source": [
    "import numpy as np"
   ]
  },
  {
   "cell_type": "markdown",
   "metadata": {
    "deletable": true,
    "editable": true
   },
   "source": [
    "n[0:2] => row[0] to column[2]\n",
    "n[-1] => last element \n",
    "n[-2] => second last element"
   ]
  },
  {
   "cell_type": "code",
   "execution_count": 10,
   "metadata": {
    "collapsed": false,
    "deletable": true,
    "editable": true
   },
   "outputs": [
    {
     "name": "stdout",
     "output_type": "stream",
     "text": [
      "[1, 2]\n",
      "3\n",
      "2\n"
     ]
    }
   ],
   "source": [
    "n= [1,2,3]\n",
    "print(n[0:2])\n",
    "print(n[-1])\n",
    "print(n[-2])\n"
   ]
  },
  {
   "cell_type": "markdown",
   "metadata": {},
   "source": [
    "a[1,2]=>0 is the starting, row[1] and column[2]\n",
    "a[0:2,2]=> row[0] to column[2] and column[2]\n",
    "a[-1] => last row\n",
    "a[:,1:3] => all row and all coulmn and from column[1] till row[3]"
   ]
  },
  {
   "cell_type": "code",
   "execution_count": 11,
   "metadata": {
    "collapsed": false,
    "deletable": true,
    "editable": true
   },
   "outputs": [
    {
     "name": "stdout",
     "output_type": "stream",
     "text": [
      "[[1 2 3]\n",
      " [4 5 6]\n",
      " [7 8 9]]\n",
      "----\n",
      "6\n",
      "----\n",
      "[3 6]\n",
      "----\n",
      "[7 8 9]\n",
      "----\n",
      "[[2 3]\n",
      " [5 6]\n",
      " [8 9]]\n"
     ]
    }
   ],
   "source": [
    "a = np.array([[1,2,3],[4,5,6],[7,8,9]])\n",
    "print(a)\n",
    "print(\"----\")\n",
    "print(a[1,2])\n",
    "print(\"----\")\n",
    "print(a[0:2,2])\n",
    "print(\"----\")\n",
    "print(a[-1])\n",
    "print(\"----\")\n",
    "print(a[:,1:3])"
   ]
  },
  {
   "cell_type": "markdown",
   "metadata": {},
   "source": [
    "flat gives all numbers one by one in a array"
   ]
  },
  {
   "cell_type": "code",
   "execution_count": 12,
   "metadata": {
    "collapsed": false,
    "deletable": true,
    "editable": true
   },
   "outputs": [
    {
     "name": "stdout",
     "output_type": "stream",
     "text": [
      "[1 2 3]\n",
      "[4 5 6]\n",
      "[7 8 9]\n",
      "1\n",
      "2\n",
      "3\n",
      "4\n",
      "5\n",
      "6\n",
      "7\n",
      "8\n",
      "9\n",
      "1\n",
      "2\n",
      "3\n",
      "4\n",
      "5\n",
      "6\n",
      "7\n",
      "8\n",
      "9\n"
     ]
    }
   ],
   "source": [
    "a = np.array([[1,2,3],[4,5,6],[7,8,9]])\n",
    "for row in a:\n",
    "    print(row)\n",
    "\n",
    "for row in a:\n",
    "    for i in row:\n",
    "        print(i)\n",
    "        \n",
    "for f in a.flat:\n",
    "    print(f)\n",
    "    \n",
    "    \n"
   ]
  },
  {
   "cell_type": "markdown",
   "metadata": {},
   "source": [
    "np.vstack((a,b)) takes two arrays and put them in vertical format a/b \n",
    "np.vstack((a,b)) takes two arrays and put them in horizontal format a|b "
   ]
  },
  {
   "cell_type": "code",
   "execution_count": 13,
   "metadata": {
    "collapsed": false,
    "deletable": true,
    "editable": true
   },
   "outputs": [
    {
     "name": "stdout",
     "output_type": "stream",
     "text": [
      "[[0 1]\n",
      " [2 3]\n",
      " [4 5]]\n",
      "[[ 6  7]\n",
      " [ 8  9]\n",
      " [10 11]]\n",
      "[[ 0  1]\n",
      " [ 2  3]\n",
      " [ 4  5]\n",
      " [ 6  7]\n",
      " [ 8  9]\n",
      " [10 11]]\n",
      "[[ 0  1  6  7]\n",
      " [ 2  3  8  9]\n",
      " [ 4  5 10 11]]\n"
     ]
    }
   ],
   "source": [
    "a = np.arange(6).reshape(3,2)\n",
    "b = np.arange(6,12).reshape(3,2)\n",
    "print(a)\n",
    "print(b)\n",
    "\n",
    "\n",
    "\n",
    "ab = np.vstack((a,b))\n",
    "print(ab)\n",
    "ab1 = np.hstack((a,b))\n",
    "print(ab1)"
   ]
  },
  {
   "cell_type": "markdown",
   "metadata": {},
   "source": [
    "np.hsplit(a,3) will split matrice a into 3 array parts horizontally (rember parts look like divided vertically but actually are divided on horizontal axis) also note hslipt depends on no. of columns can't divide in parts more than columns"
   ]
  },
  {
   "cell_type": "code",
   "execution_count": 14,
   "metadata": {
    "collapsed": false,
    "deletable": true,
    "editable": true
   },
   "outputs": [
    {
     "name": "stdout",
     "output_type": "stream",
     "text": [
      "[[ 0  1  2  3  4  5  6  7  8  9 10 11 12 13 14]\n",
      " [15 16 17 18 19 20 21 22 23 24 25 26 27 28 29]]\n",
      "------------------\n",
      "[array([[ 0,  1,  2,  3,  4],\n",
      "       [15, 16, 17, 18, 19]]), array([[ 5,  6,  7,  8,  9],\n",
      "       [20, 21, 22, 23, 24]]), array([[10, 11, 12, 13, 14],\n",
      "       [25, 26, 27, 28, 29]])]\n"
     ]
    }
   ],
   "source": [
    "import numpy as np\n",
    "a = np.arange(30).reshape(2,15)\n",
    "print(a)\n",
    "print(\"------------------\")\n",
    "a3 = np.hsplit(a,3)\n",
    "print(a3)"
   ]
  },
  {
   "cell_type": "markdown",
   "metadata": {},
   "source": [
    "np.vsplit(a,2) will split matrice a into 2 array parts vertically (rember parts look like divided horizontally but actually are divided on vertical axis) also note vslipt depends on no. of rows can't divide in parts more than rows"
   ]
  },
  {
   "cell_type": "code",
   "execution_count": 15,
   "metadata": {
    "collapsed": false,
    "deletable": true,
    "editable": true
   },
   "outputs": [
    {
     "name": "stdout",
     "output_type": "stream",
     "text": [
      "[[ 0  1  2  3  4  5  6  7  8  9 10 11 12 13 14]\n",
      " [15 16 17 18 19 20 21 22 23 24 25 26 27 28 29]]\n",
      "[array([[ 0,  1,  2,  3,  4,  5,  6,  7,  8,  9, 10, 11, 12, 13, 14]]), array([[15, 16, 17, 18, 19, 20, 21, 22, 23, 24, 25, 26, 27, 28, 29]])]\n"
     ]
    }
   ],
   "source": [
    "import numpy as np\n",
    "a = np.arange(30).reshape(2,15)\n",
    "print(a)\n",
    "a3 = np.vsplit(a,2)\n",
    "print(a3)"
   ]
  },
  {
   "cell_type": "markdown",
   "metadata": {},
   "source": [
    "b = a>4 gives a boolean matrice where all elements are false but those elements are true which are greater than 4 in matrice a.\n",
    "_____________________\n",
    "a[b] will give array of those elements of a which are true in b.\n",
    "_____________________\n",
    "a[b]=-1 will make all elements of a '-1 ' which are true in b.\n"
   ]
  },
  {
   "cell_type": "code",
   "execution_count": 16,
   "metadata": {
    "collapsed": false,
    "deletable": true,
    "editable": true
   },
   "outputs": [
    {
     "name": "stdout",
     "output_type": "stream",
     "text": [
      "[[False False False False]\n",
      " [False  True  True  True]\n",
      " [ True  True  True  True]]\n",
      "[ 5  6  7  8  9 10 11]\n",
      "[[ 0  1  2  3]\n",
      " [ 4 -1 -1 -1]\n",
      " [-1 -1 -1 -1]]\n",
      "[[False False False False]\n",
      " [False  True  True  True]\n",
      " [ True  True  True  True]]\n"
     ]
    }
   ],
   "source": [
    "a = np.arange(12).reshape(3,4) \n",
    "b = a>4 \n",
    "print(b)\n",
    "print(a[b])\n",
    "a[b]=-1\n",
    "print(a)\n",
    "print(b)"
   ]
  },
  {
   "cell_type": "markdown",
   "metadata": {},
   "source": [
    "a.flatten() is same as flat it gives all the values of matrice in one dimension array.\n",
    "_____________\n",
    "np.nditer(a,order='F') gives an array of all elements and order='F' makes it couln wise.\n",
    "_____________\n",
    "np.nditer(a,order='F',flags=['externam_loop']) gives the transpose of the matrice. \n"
   ]
  },
  {
   "cell_type": "code",
   "execution_count": 17,
   "metadata": {
    "collapsed": false,
    "deletable": true,
    "editable": true
   },
   "outputs": [
    {
     "name": "stdout",
     "output_type": "stream",
     "text": [
      "[[ 0  1  2  3]\n",
      " [ 4  5  6  7]\n",
      " [ 8  9 10 11]]\n",
      "0\n",
      "1\n",
      "2\n",
      "3\n",
      "4\n",
      "5\n",
      "6\n",
      "7\n",
      "8\n",
      "9\n",
      "10\n",
      "11\n",
      "0\n",
      "4\n",
      "8\n",
      "1\n",
      "5\n",
      "9\n",
      "2\n",
      "6\n",
      "10\n",
      "3\n",
      "7\n",
      "11\n",
      "[0 4 8]\n",
      "[1 5 9]\n",
      "[ 2  6 10]\n",
      "[ 3  7 11]\n"
     ]
    }
   ],
   "source": [
    "a = np.arange(12).reshape(3,4)\n",
    "print(a)\n",
    "\n",
    "for f in a.flatten():\n",
    "    print(f)\n",
    "    \n",
    "for f in np.nditer(a,order='F'):\n",
    "    print(f)\n",
    "    \n",
    "for f in np.nditer(a,order='F',flags=['external_loop']):\n",
    "    print(f)"
   ]
  }
 ],
 "metadata": {
  "kernelspec": {
   "display_name": "Python 3",
   "language": "python",
   "name": "python3"
  },
  "language_info": {
   "codemirror_mode": {
    "name": "ipython",
    "version": 3
   },
   "file_extension": ".py",
   "mimetype": "text/x-python",
   "name": "python",
   "nbconvert_exporter": "python",
   "pygments_lexer": "ipython3",
   "version": "3.5.2"
  }
 },
 "nbformat": 4,
 "nbformat_minor": 2
}
