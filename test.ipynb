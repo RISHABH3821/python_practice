{
 "cells": [
  {
   "cell_type": "code",
   "execution_count": 5,
   "metadata": {
    "collapsed": false,
    "deletable": true,
    "editable": true
   },
   "outputs": [],
   "source": [
    "from nsetools import Nse\n",
    "from pprint import pprint"
   ]
  },
  {
   "cell_type": "code",
   "execution_count": 6,
   "metadata": {
    "collapsed": false,
    "deletable": true,
    "editable": true
   },
   "outputs": [
    {
     "name": "stdout",
     "output_type": "stream",
     "text": [
      "Driver Class for National Stock Exchange (NSE)\n"
     ]
    }
   ],
   "source": [
    "nse = Nse()\n",
    "print (nse)"
   ]
  },
  {
   "cell_type": "code",
   "execution_count": 11,
   "metadata": {
    "collapsed": false,
    "deletable": true,
    "editable": true
   },
   "outputs": [
    {
     "name": "stdout",
     "output_type": "stream",
     "text": [
      "{'adhocMargin': None,\n",
      " 'applicableMargin': 12.5,\n",
      " 'averagePrice': 735.69,\n",
      " 'basePrice': 737.15,\n",
      " 'bcEndDate': None,\n",
      " 'bcStartDate': None,\n",
      " 'buyPrice1': 730.8,\n",
      " 'buyPrice2': 730.75,\n",
      " 'buyPrice3': 730.7,\n",
      " 'buyPrice4': 730.5,\n",
      " 'buyPrice5': 730.45,\n",
      " 'buyQuantity1': 1419.0,\n",
      " 'buyQuantity2': 74.0,\n",
      " 'buyQuantity3': 50.0,\n",
      " 'buyQuantity4': 167.0,\n",
      " 'buyQuantity5': 48.0,\n",
      " 'change': '-6.30',\n",
      " 'closePrice': 0.0,\n",
      " 'cm_adj_high_dt': '04-SEP-18',\n",
      " 'cm_adj_low_dt': '11-SEP-17',\n",
      " 'cm_ffm': 280145.1,\n",
      " 'companyName': 'Infosys Limited',\n",
      " 'css_status_desc': 'Listed',\n",
      " 'dayHigh': 744.05,\n",
      " 'dayLow': 725.4,\n",
      " 'deliveryQuantity': 6954062.0,\n",
      " 'deliveryToTradedQuantity': 45.24,\n",
      " 'exDate': '04-SEP-18',\n",
      " 'extremeLossMargin': 5.0,\n",
      " 'faceValue': 5.0,\n",
      " 'high52': 748.5,\n",
      " 'indexVar': None,\n",
      " 'isExDateFlag': False,\n",
      " 'isinCode': 'INE009A01021',\n",
      " 'lastPrice': 730.85,\n",
      " 'low52': 436.83,\n",
      " 'marketType': 'N',\n",
      " 'ndEndDate': None,\n",
      " 'ndStartDate': None,\n",
      " 'open': 741.95,\n",
      " 'pChange': '-0.85',\n",
      " 'previousClose': 737.15,\n",
      " 'priceBand': 'No Band',\n",
      " 'pricebandlower': 663.45,\n",
      " 'pricebandupper': 810.85,\n",
      " 'purpose': 'BONUS 1:1',\n",
      " 'quantityTraded': 15370124.0,\n",
      " 'recordDate': '05-SEP-18',\n",
      " 'secDate': '4SEP2018',\n",
      " 'securityVar': 5.04,\n",
      " 'sellPrice1': 730.85,\n",
      " 'sellPrice2': 730.9,\n",
      " 'sellPrice3': 730.95,\n",
      " 'sellPrice4': 731.0,\n",
      " 'sellPrice5': 731.05,\n",
      " 'sellQuantity1': 179.0,\n",
      " 'sellQuantity2': 669.0,\n",
      " 'sellQuantity3': 103.0,\n",
      " 'sellQuantity4': 10.0,\n",
      " 'sellQuantity5': 2.0,\n",
      " 'series': 'EQ',\n",
      " 'surv_indicator': None,\n",
      " 'symbol': 'INFY',\n",
      " 'totalBuyQuantity': 465084.0,\n",
      " 'totalSellQuantity': 1867071.0,\n",
      " 'totalTradedValue': 54154.49,\n",
      " 'totalTradedVolume': 7361048.0,\n",
      " 'varMargin': 7.5}\n"
     ]
    }
   ],
   "source": [
    "q = nse.get_quote('INFY')\n",
    "pprint(q)"
   ]
  },
  {
   "cell_type": "code",
   "execution_count": null,
   "metadata": {
    "collapsed": true,
    "deletable": true,
    "editable": true
   },
   "outputs": [],
   "source": []
  }
 ],
 "metadata": {
  "kernelspec": {
   "display_name": "Python 3",
   "language": "python",
   "name": "python3"
  },
  "language_info": {
   "codemirror_mode": {
    "name": "ipython",
    "version": 3
   },
   "file_extension": ".py",
   "mimetype": "text/x-python",
   "name": "python",
   "nbconvert_exporter": "python",
   "pygments_lexer": "ipython3",
   "version": "3.5.2"
  }
 },
 "nbformat": 4,
 "nbformat_minor": 2
}
